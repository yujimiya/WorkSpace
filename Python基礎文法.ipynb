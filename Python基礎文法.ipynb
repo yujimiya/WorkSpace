{
  "nbformat": 4,
  "nbformat_minor": 0,
  "metadata": {
    "colab": {
      "provenance": [],
      "authorship_tag": "ABX9TyM3reRnjiTCpzeqrX/HgnTG",
      "include_colab_link": true
    },
    "kernelspec": {
      "name": "python3",
      "display_name": "Python 3"
    },
    "language_info": {
      "name": "python"
    }
  },
  "cells": [
    {
      "cell_type": "markdown",
      "metadata": {
        "id": "view-in-github",
        "colab_type": "text"
      },
      "source": [
        "<a href=\"https://colab.research.google.com/github/yujimiya/WorkSpace/blob/main/Python%E5%9F%BA%E7%A4%8E%E6%96%87%E6%B3%95.ipynb\" target=\"_parent\"><img src=\"https://colab.research.google.com/assets/colab-badge.svg\" alt=\"Open In Colab\"/></a>"
      ]
    },
    {
      "cell_type": "code",
      "execution_count": 1,
      "metadata": {
        "colab": {
          "base_uri": "https://localhost:8080/"
        },
        "id": "qECXyEdJgp38",
        "outputId": "37e03443-0227-40ea-b9ce-c19bfa85c3ab"
      },
      "outputs": [
        {
          "output_type": "stream",
          "name": "stdout",
          "text": [
            "Hello World\n"
          ]
        }
      ],
      "source": [
        "print(\"Hello World\")"
      ]
    },
    {
      "cell_type": "code",
      "source": [
        "# これはHello Worldと表示しするプログラムです。\n",
        "print(\"Hello World\")\n",
        "\n",
        "# これはコメントアウトされるため何も処理を行いません\n",
        "# print(\"こんにちは世界\")"
      ],
      "metadata": {
        "colab": {
          "base_uri": "https://localhost:8080/"
        },
        "id": "p8Pt3_4FhBwI",
        "outputId": "b12bc8a3-a94e-44d5-9fe2-8b79392b8a7c"
      },
      "execution_count": 3,
      "outputs": [
        {
          "output_type": "stream",
          "name": "stdout",
          "text": [
            "Hello World\n"
          ]
        }
      ]
    },
    {
      "cell_type": "code",
      "source": [
        "#↓ここに半角スペースがある\n",
        "print(\"Hell World\")"
      ],
      "metadata": {
        "colab": {
          "base_uri": "https://localhost:8080/"
        },
        "id": "LTMU4HrFhkgI",
        "outputId": "54bfb058-0f89-4273-8786-63d7d060e953"
      },
      "execution_count": 5,
      "outputs": [
        {
          "output_type": "stream",
          "name": "stdout",
          "text": [
            "Hell World\n"
          ]
        }
      ]
    },
    {
      "cell_type": "code",
      "source": [
        "# 「prnt」になってしまっている\n",
        "print (\"Hello World\")"
      ],
      "metadata": {
        "colab": {
          "base_uri": "https://localhost:8080/"
        },
        "id": "3UHIq8cSiWyo",
        "outputId": "5a2845af-396a-4bf7-b201-3649a6826d9c"
      },
      "execution_count": 7,
      "outputs": [
        {
          "output_type": "stream",
          "name": "stdout",
          "text": [
            "Hello World\n"
          ]
        }
      ]
    },
    {
      "cell_type": "markdown",
      "source": [],
      "metadata": {
        "id": "1OBaBFluh-Ca"
      }
    },
    {
      "cell_type": "code",
      "source": [
        "\"Hello! こんにちは!\""
      ],
      "metadata": {
        "colab": {
          "base_uri": "https://localhost:8080/",
          "height": 35
        },
        "id": "oDOjMUYBnwy9",
        "outputId": "67cb0dac-a55a-46e3-9627-adfbc83ac368"
      },
      "execution_count": 26,
      "outputs": [
        {
          "output_type": "execute_result",
          "data": {
            "text/plain": [
              "'Hello! こんにちは!'"
            ],
            "application/vnd.google.colaboratory.intrinsic+json": {
              "type": "string"
            }
          },
          "metadata": {},
          "execution_count": 26
        }
      ]
    },
    {
      "cell_type": "code",
      "source": [
        "\"Hey\" + \"brother!\""
      ],
      "metadata": {
        "colab": {
          "base_uri": "https://localhost:8080/",
          "height": 35
        },
        "id": "CzMQYt9joASa",
        "outputId": "468f5eba-fc91-4442-fd27-0c30692185a6"
      },
      "execution_count": 27,
      "outputs": [
        {
          "output_type": "execute_result",
          "data": {
            "text/plain": [
              "'Heybrother!'"
            ],
            "application/vnd.google.colaboratory.intrinsic+json": {
              "type": "string"
            }
          },
          "metadata": {},
          "execution_count": 27
        }
      ]
    },
    {
      "cell_type": "code",
      "source": [
        "#len関数で文字数を出す\n",
        "len(\"good morning\")"
      ],
      "metadata": {
        "colab": {
          "base_uri": "https://localhost:8080/"
        },
        "id": "XJoEs_apoLRe",
        "outputId": "a5ae5bc1-b1f0-4dbb-80f4-1ec9ae82fc6c"
      },
      "execution_count": 28,
      "outputs": [
        {
          "output_type": "execute_result",
          "data": {
            "text/plain": [
              "12"
            ]
          },
          "metadata": {},
          "execution_count": 28
        }
      ]
    },
    {
      "cell_type": "code",
      "source": [
        "#数値を書いてエンターキーで実行\n",
        "12345"
      ],
      "metadata": {
        "colab": {
          "base_uri": "https://localhost:8080/"
        },
        "id": "I9yVePyYoX4s",
        "outputId": "b60b9382-157e-495c-b6dc-8276d9eba8bb"
      },
      "execution_count": 29,
      "outputs": [
        {
          "output_type": "execute_result",
          "data": {
            "text/plain": [
              "12345"
            ]
          },
          "metadata": {},
          "execution_count": 29
        }
      ]
    },
    {
      "cell_type": "code",
      "source": [
        "24 * 365"
      ],
      "metadata": {
        "colab": {
          "base_uri": "https://localhost:8080/"
        },
        "id": "qOH129gXomR9",
        "outputId": "18d85d5b-a95d-4a07-8cf5-bb22f2a88247"
      },
      "execution_count": 30,
      "outputs": [
        {
          "output_type": "execute_result",
          "data": {
            "text/plain": [
              "8760"
            ]
          },
          "metadata": {},
          "execution_count": 30
        }
      ]
    },
    {
      "cell_type": "code",
      "source": [
        "\"i am\" + str(20) + \" years old.\""
      ],
      "metadata": {
        "colab": {
          "base_uri": "https://localhost:8080/",
          "height": 35
        },
        "id": "JKsONFOeouqu",
        "outputId": "535d08c1-8fa1-48a1-b0e6-663b66f49b63"
      },
      "execution_count": 31,
      "outputs": [
        {
          "output_type": "execute_result",
          "data": {
            "text/plain": [
              "'i am20 years old.'"
            ],
            "application/vnd.google.colaboratory.intrinsic+json": {
              "type": "string"
            }
          },
          "metadata": {},
          "execution_count": 31
        }
      ]
    },
    {
      "cell_type": "code",
      "source": [
        "# int関数dれ文字列を数値に変換\n",
        "int(\"100\") + 400"
      ],
      "metadata": {
        "colab": {
          "base_uri": "https://localhost:8080/"
        },
        "id": "Gb-ZpcscpIgk",
        "outputId": "dd9ca539-82be-4149-8529-6b05bab8ccae"
      },
      "execution_count": 32,
      "outputs": [
        {
          "output_type": "execute_result",
          "data": {
            "text/plain": [
              "500"
            ]
          },
          "metadata": {},
          "execution_count": 32
        }
      ]
    },
    {
      "cell_type": "code",
      "source": [
        "#f文字列を使って、文字列に式を埋め込む\n",
        "f\"今日で{19 + 1}歳になりました\""
      ],
      "metadata": {
        "colab": {
          "base_uri": "https://localhost:8080/",
          "height": 35
        },
        "id": "c2rf5rzgpUFF",
        "outputId": "a21b3800-91d6-4f08-ba15-7ad9709263bf"
      },
      "execution_count": 33,
      "outputs": [
        {
          "output_type": "execute_result",
          "data": {
            "text/plain": [
              "'今日で20歳になりました'"
            ],
            "application/vnd.google.colaboratory.intrinsic+json": {
              "type": "string"
            }
          },
          "metadata": {},
          "execution_count": 33
        }
      ]
    },
    {
      "cell_type": "code",
      "source": [
        "\"ようこそ！名前を入力して下さい\"\n",
        "\n",
        "\"秒数を知りたい時間を分単位で入力して下さい\"\n",
        "\n",
        "f\"太郎さん、{5}分は{5 * 60}秒です！\""
      ],
      "metadata": {
        "colab": {
          "base_uri": "https://localhost:8080/",
          "height": 35
        },
        "id": "IGfgxfu6pw6_",
        "outputId": "2fdf0d92-b4fb-4fad-f15c-fab6a18ea727"
      },
      "execution_count": 34,
      "outputs": [
        {
          "output_type": "execute_result",
          "data": {
            "text/plain": [
              "'太郎さん、5分は300秒です！'"
            ],
            "application/vnd.google.colaboratory.intrinsic+json": {
              "type": "string"
            }
          },
          "metadata": {},
          "execution_count": 34
        }
      ]
    },
    {
      "cell_type": "code",
      "source": [
        "number = 7\n"
      ],
      "metadata": {
        "id": "36tnB12LqRRx"
      },
      "execution_count": 35,
      "outputs": []
    },
    {
      "cell_type": "code",
      "source": [
        "print(number)"
      ],
      "metadata": {
        "colab": {
          "base_uri": "https://localhost:8080/"
        },
        "id": "Ek6WhpKbrLBh",
        "outputId": "9e97a21b-b80b-4ccd-e4ae-0a7af6c29be8"
      },
      "execution_count": 36,
      "outputs": [
        {
          "output_type": "stream",
          "name": "stdout",
          "text": [
            "7\n"
          ]
        }
      ]
    },
    {
      "cell_type": "code",
      "source": [
        "number = number + 1\n",
        "\n",
        "print(number)"
      ],
      "metadata": {
        "colab": {
          "base_uri": "https://localhost:8080/"
        },
        "id": "5J87ejt2rNK0",
        "outputId": "5b7803d2-9091-4117-b0d9-3bee862c9e99"
      },
      "execution_count": 37,
      "outputs": [
        {
          "output_type": "stream",
          "name": "stdout",
          "text": [
            "8\n"
          ]
        }
      ]
    },
    {
      "cell_type": "code",
      "source": [
        "# 変数に値を代入\n",
        "name = \"takashi\"\n",
        "\n",
        "# 文字数を調べる\n",
        "name_length = len(name)\n",
        "print(name_length)\n"
      ],
      "metadata": {
        "colab": {
          "base_uri": "https://localhost:8080/"
        },
        "id": "5PTB1oj8rjzu",
        "outputId": "00f9718d-ae59-4789-80a8-b84ed71cda22"
      },
      "execution_count": 38,
      "outputs": [
        {
          "output_type": "stream",
          "name": "stdout",
          "text": [
            "7\n"
          ]
        }
      ]
    },
    {
      "cell_type": "code",
      "source": [
        "print(name)"
      ],
      "metadata": {
        "colab": {
          "base_uri": "https://localhost:8080/"
        },
        "id": "o92liMEbry40",
        "outputId": "c8adab80-0f68-4488-8047-6946334480c4"
      },
      "execution_count": 39,
      "outputs": [
        {
          "output_type": "stream",
          "name": "stdout",
          "text": [
            "takashi\n"
          ]
        }
      ]
    },
    {
      "cell_type": "code",
      "source": [
        "\"ようこそ！名前を入力して下さい\"\n",
        "name = \"タロウ\"\n",
        "\n",
        "\"秒数を知りたい時間を分単位で入力して下さい\"\n",
        "minutes = 5\n",
        "\n",
        "f\"{name}さん、{minutes}分は{minutes * 60}秒です\""
      ],
      "metadata": {
        "colab": {
          "base_uri": "https://localhost:8080/",
          "height": 35
        },
        "id": "wx7mVvcVr0th",
        "outputId": "34e052e2-ac1a-44b2-bd7a-7132029e373d"
      },
      "execution_count": 41,
      "outputs": [
        {
          "output_type": "execute_result",
          "data": {
            "text/plain": [
              "'タロウさん、5分は300秒です'"
            ],
            "application/vnd.google.colaboratory.intrinsic+json": {
              "type": "string"
            }
          },
          "metadata": {},
          "execution_count": 41
        }
      ]
    },
    {
      "cell_type": "code",
      "source": [
        "\"ようこそ！名前を入力して下さい\"\n",
        "name = \"タロウ\"\n",
        "\n",
        "\"秒数を知りたい時間を分単位で入力して下さい\"\n",
        "minutes = 5\n",
        "seconds = minutes * 60\n",
        "\n",
        "f\"{name}さん、{minutes}分は{seconds}秒です\""
      ],
      "metadata": {
        "colab": {
          "base_uri": "https://localhost:8080/",
          "height": 35
        },
        "id": "hC7L1LUmsJFK",
        "outputId": "6da3fda2-a0ea-47e3-be07-392560bd56ca"
      },
      "execution_count": 42,
      "outputs": [
        {
          "output_type": "execute_result",
          "data": {
            "text/plain": [
              "'タロウさん、5分は300秒です'"
            ],
            "application/vnd.google.colaboratory.intrinsic+json": {
              "type": "string"
            }
          },
          "metadata": {},
          "execution_count": 42
        }
      ]
    },
    {
      "cell_type": "code",
      "source": [
        "text = input()\n",
        "\n",
        "print(f\"入力した値は{text}です\")"
      ],
      "metadata": {
        "colab": {
          "base_uri": "https://localhost:8080/"
        },
        "id": "l_U70haBsoBc",
        "outputId": "043c358b-72e1-4c69-b5cb-5db00e23b637"
      },
      "execution_count": 43,
      "outputs": [
        {
          "output_type": "stream",
          "name": "stdout",
          "text": [
            "Hello World\n",
            "入力した値はHello Worldです\n"
          ]
        }
      ]
    },
    {
      "cell_type": "code",
      "source": [
        "text = input()\n",
        "\n",
        "print(f\"入力した値は{text}です\")\n",
        "print(f\"入力した値は{text}です\\n\")\n",
        "print(f\"入力した値は{text}です\")"
      ],
      "metadata": {
        "colab": {
          "base_uri": "https://localhost:8080/"
        },
        "id": "jYxfO7HLtHxu",
        "outputId": "7cce3506-4c16-4563-b9ee-df2c6399cacc"
      },
      "execution_count": 45,
      "outputs": [
        {
          "output_type": "stream",
          "name": "stdout",
          "text": [
            "text\n",
            "入力した値はtextです\n",
            "入力した値はtextです\n",
            "\n",
            "入力した値はtextです\n"
          ]
        }
      ]
    },
    {
      "cell_type": "code",
      "source": [
        "print(\"ようこそ！名前を入力してください\")\n",
        "name = \"タロウ\"\n",
        "\n",
        "print(\"秒数を知りたい時間を分単位で入力してください\")\n",
        "minutes = 5\n",
        "seconds = minutes * 60\n",
        "\n",
        "print(f\"{name}さん、{minutes}分は{seconds}秒です！\")"
      ],
      "metadata": {
        "colab": {
          "base_uri": "https://localhost:8080/"
        },
        "id": "gmi5nW4NtuF4",
        "outputId": "2c288fe4-0ddf-42bb-b39b-cce1e0eb7757"
      },
      "execution_count": 46,
      "outputs": [
        {
          "output_type": "stream",
          "name": "stdout",
          "text": [
            "ようこそ！名前を入力してください\n",
            "秒数を知りたい時間を分単位で入力してください\n",
            "タロウさん、5分は300秒です！\n"
          ]
        }
      ]
    },
    {
      "cell_type": "code",
      "source": [
        "print(\"ようこそ！\\n名前を入力してください\")\n",
        "name = \"タロウ\"\n",
        "\n",
        "print(\"秒数を知りたい時間を分単位で入力してください\")\n",
        "minutes = 5\n",
        "seconds = minutes * 60\n",
        "\n",
        "print(f\"{name}さん、{minutes}分は{seconds}秒です！\")"
      ],
      "metadata": {
        "colab": {
          "base_uri": "https://localhost:8080/"
        },
        "id": "inZajaW6t8vQ",
        "outputId": "ebbcbc26-828c-4358-d061-1745f6635523"
      },
      "execution_count": 47,
      "outputs": [
        {
          "output_type": "stream",
          "name": "stdout",
          "text": [
            "ようこそ！\n",
            "名前を入力してください\n",
            "秒数を知りたい時間を分単位で入力してください\n",
            "タロウさん、5分は300秒です！\n"
          ]
        }
      ]
    },
    {
      "cell_type": "code",
      "source": [
        "print(\"ようこそ！名前を入力してください\")\n",
        "name = input()\n",
        "\n",
        "print(\"秒数を知りたい時間を分単位で入力してください\")\n",
        "minutes = input()\n",
        "seconds = minutes * 60\n",
        "\n",
        "print(f\"{name}さん、{minutes}分は{seconds}秒です！\")"
      ],
      "metadata": {
        "colab": {
          "base_uri": "https://localhost:8080/"
        },
        "id": "MqheICX8uHd1",
        "outputId": "17987d4f-8a89-475d-e5d7-3e219e8fca45"
      },
      "execution_count": 48,
      "outputs": [
        {
          "output_type": "stream",
          "name": "stdout",
          "text": [
            "ようこそ！名前を入力してください\n",
            "tarou\n",
            "秒数を知りたい時間を分単位で入力してください\n",
            "5\n",
            "tarouさん、5分は555555555555555555555555555555555555555555555555555555555555秒です！\n"
          ]
        }
      ]
    },
    {
      "cell_type": "code",
      "source": [
        "print(\"ようこそ！名前を入力してください\")\n",
        "name = input()\n",
        "\n",
        "print(\"秒数を知りたい時間を分単位で入力してください\")\n",
        "minutes = int(input())\n",
        "seconds = minutes * 60\n",
        "\n",
        "print(f\"{name}さん、{minutes}分は{seconds}秒です！\")"
      ],
      "metadata": {
        "colab": {
          "base_uri": "https://localhost:8080/"
        },
        "id": "_Xcoi4ptucDT",
        "outputId": "b4a9d4cd-b863-4002-bcf2-f1efe92e1702"
      },
      "execution_count": 49,
      "outputs": [
        {
          "output_type": "stream",
          "name": "stdout",
          "text": [
            "ようこそ！名前を入力してください\n",
            "yuji\n",
            "秒数を知りたい時間を分単位で入力してください\n",
            "6\n",
            "yujiさん、6分は360秒です！\n"
          ]
        }
      ]
    },
    {
      "cell_type": "code",
      "source": [
        "pencil_case = [\"ペン\", \"消しゴム\", \"定規\"]\n",
        "\n",
        "print(pencil_case)"
      ],
      "metadata": {
        "colab": {
          "base_uri": "https://localhost:8080/"
        },
        "id": "ktRfYkIRug-m",
        "outputId": "e87ffeb5-f3e0-4bb6-82ff-03b125c24b70"
      },
      "execution_count": 50,
      "outputs": [
        {
          "output_type": "stream",
          "name": "stdout",
          "text": [
            "['ペン', '消しゴム', '定規']\n"
          ]
        }
      ]
    },
    {
      "cell_type": "code",
      "source": [
        "#appendメソッド　配列に値を追加\n",
        "#例： 配列.append(追加する要素)\n",
        "pencil_case = [\"ペン\", \"消しゴム\", \"定規\"]\n",
        "pencil_case.append(\"えんぴつ\")\n",
        "\n",
        "print(pencil_case)\n"
      ],
      "metadata": {
        "colab": {
          "base_uri": "https://localhost:8080/"
        },
        "id": "nwOU4zg2vFsI",
        "outputId": "7046b0ec-e162-4928-f12a-5bcba14f9c2d"
      },
      "execution_count": 51,
      "outputs": [
        {
          "output_type": "stream",
          "name": "stdout",
          "text": [
            "['ペン', '消しゴム', '定規', 'えんぴつ']\n"
          ]
        }
      ]
    },
    {
      "cell_type": "code",
      "source": [
        "#配列の要素を取得\n",
        "pencil_case = [\"ペン\", \"消しゴム\", \"定規\"]\n",
        "pencil_case.append(\"えんぴつ\")\n",
        "\n",
        "print(pencil_case)\n",
        "print(pencil_case[3])"
      ],
      "metadata": {
        "colab": {
          "base_uri": "https://localhost:8080/"
        },
        "id": "UQGcINIAvp2Q",
        "outputId": "8f1f9d37-f31b-4359-d83d-e83cedbba06d"
      },
      "execution_count": 53,
      "outputs": [
        {
          "output_type": "stream",
          "name": "stdout",
          "text": [
            "['ペン', '消しゴム', '定規', 'えんぴつ']\n",
            "えんぴつ\n"
          ]
        }
      ]
    },
    {
      "cell_type": "code",
      "source": [
        "#配列の値を変更\n",
        "pencil_case = [\"ペン\", \"消しゴム\", \"定規\"]\n",
        "pencil_case.append(\"えんぴつ\")\n",
        "pencil_case[1] = \"修正ペン\" #配列の添字を指定し、再代入することで変更\n",
        "\n",
        "print(pencil_case)\n",
        "print(pencil_case[1])"
      ],
      "metadata": {
        "colab": {
          "base_uri": "https://localhost:8080/"
        },
        "id": "C2o0HsdevzG8",
        "outputId": "0ebe40c9-8812-4996-fec2-2eabb6528d52"
      },
      "execution_count": 54,
      "outputs": [
        {
          "output_type": "stream",
          "name": "stdout",
          "text": [
            "['ペン', '修正ペン', '定規', 'えんぴつ']\n",
            "修正ペン\n"
          ]
        }
      ]
    },
    {
      "cell_type": "code",
      "source": [
        "#配列の要素数をカウント\n",
        "pencil_case = [\"ペン\", \"消しゴム\", \"定規\"]\n",
        "print(len(pencil_case))   #配列の要素数をカウント\n",
        "\n",
        "pencil_case.append(\"鉛筆\")\n",
        "pencil_case.append(\"付箋\")\n",
        "print(len(pencil_case))"
      ],
      "metadata": {
        "colab": {
          "base_uri": "https://localhost:8080/"
        },
        "id": "v6u3JYvxwT7Y",
        "outputId": "bcd41895-4fde-4cac-9d37-d3e9120519b2"
      },
      "execution_count": 55,
      "outputs": [
        {
          "output_type": "stream",
          "name": "stdout",
          "text": [
            "3\n",
            "5\n"
          ]
        }
      ]
    },
    {
      "cell_type": "code",
      "source": [
        "ride_count = 0\n",
        "friends = []\n",
        "\n",
        "print(\"お友達の名前は？\")\n",
        "friends.append(input())\n",
        "print(\"お友達の身長は？\")\n",
        "friends.append(int(input()))\n",
        "ride_count += 1\n",
        "\n",
        "print(\"お友達の名前は？\")\n",
        "friends.append(input())\n",
        "print(\"お友達の身長は？\")\n",
        "friends.append(int(input()))\n",
        "ride_count += 1\n",
        "\n",
        "print(\"お友達の名前は？\")\n",
        "friends.append(input())\n",
        "print(\"お友達の身長は？\")\n",
        "friends.append(int(input()))\n",
        "ride_count += 1\n",
        "\n",
        "print(f\"乗車するのは{ride_count}人です\")\n"
      ],
      "metadata": {
        "colab": {
          "base_uri": "https://localhost:8080/"
        },
        "id": "dn5Sw-0mw9V7",
        "outputId": "7955c59b-df20-438c-9690-40407bfdaffb"
      },
      "execution_count": 56,
      "outputs": [
        {
          "output_type": "stream",
          "name": "stdout",
          "text": [
            "お友達の名前は？\n",
            "らたお\n",
            "お友達の身長は？\n",
            "198\n",
            "お友達の名前は？\n",
            "カツオ\n",
            "お友達の身長は？\n",
            "134\n",
            "お友達の名前は？\n",
            "わかめ\n",
            "お友達の身長は？\n",
            "156\n",
            "乗車するのは3人です\n"
          ]
        }
      ]
    },
    {
      "cell_type": "code",
      "source": [
        "#辞書を作る 例・・・・・\n",
        "#　変数　= {キー１: バリュー１, キー２: バリュー２, キー３: バリュー３}\n",
        "\n",
        "student = {\"name\": \"john\", \"age\" : 10}\n",
        "teacher = {\"name\": \"Mike\", \"age\": 25}\n",
        "\n",
        "print(student)\n",
        "print(teacher)"
      ],
      "metadata": {
        "colab": {
          "base_uri": "https://localhost:8080/"
        },
        "id": "EHjtds0fq6C9",
        "outputId": "ed598853-bd07-484d-d350-7f8fec12bd86"
      },
      "execution_count": 57,
      "outputs": [
        {
          "output_type": "stream",
          "name": "stdout",
          "text": [
            "{'name': 'john', 'age': 10}\n",
            "{'name': 'Mike', 'age': 25}\n"
          ]
        }
      ]
    },
    {
      "cell_type": "code",
      "source": [
        "#辞書にデータを追加する\n",
        "#例・・・　辞書[追加するキー] = 値\n",
        "\n",
        "student = {\"name\": \"john\", \"age\" : 10}\n",
        "teacher = {\"name\": \"Mike\", \"age\": 25}\n",
        "\n",
        "teacher[\"subject\"] = \"English\" #辞書に追加\n",
        "\n",
        "print(student)\n",
        "print(teacher)"
      ],
      "metadata": {
        "colab": {
          "base_uri": "https://localhost:8080/"
        },
        "id": "vZk7Xap2sOS6",
        "outputId": "08da219e-6a5c-456e-bddf-68be6be45a19"
      },
      "execution_count": 58,
      "outputs": [
        {
          "output_type": "stream",
          "name": "stdout",
          "text": [
            "{'name': 'john', 'age': 10}\n",
            "{'name': 'Mike', 'age': 25, 'subject': 'English'}\n"
          ]
        }
      ]
    },
    {
      "cell_type": "code",
      "source": [
        "#辞書からデータを取り出す方法\n",
        "#例・・・ 辞書[取得したい値のキー]\n",
        "\n",
        "student = {\"name\": \"john\", \"age\" : 10}\n",
        "teacher = {\"name\": \"Mike\", \"age\": 25}\n",
        "\n",
        "teacher[\"subject\"] = \"English\" #辞書に追加\n",
        "\n",
        "print(student)\n",
        "print(teacher)\n",
        "print(teacher[\"name\"])"
      ],
      "metadata": {
        "colab": {
          "base_uri": "https://localhost:8080/"
        },
        "id": "78Nz2qpKtA6I",
        "outputId": "b5df2305-19df-4407-b234-f22ff858fea6"
      },
      "execution_count": 59,
      "outputs": [
        {
          "output_type": "stream",
          "name": "stdout",
          "text": [
            "{'name': 'john', 'age': 10}\n",
            "{'name': 'Mike', 'age': 25, 'subject': 'English'}\n",
            "Mike\n"
          ]
        }
      ]
    },
    {
      "cell_type": "code",
      "source": [
        "#辞書の値を変更する方法\n",
        "#例・・・・　辞書[変更したい値のキー] = 値\n",
        "\n",
        "student = {\"name\": \"john\", \"age\" : 10}\n",
        "teacher = {\"name\": \"Mike\", \"age\": 25}\n",
        "\n",
        "teacher[\"subject\"] = \"English\" #辞書に追加\n",
        "teacher[\"name\"] = \"Emma\" #辞書の値を変更\n",
        "\n",
        "print(student)\n",
        "print(teacher)\n",
        "print(teacher[\"name\"])"
      ],
      "metadata": {
        "colab": {
          "base_uri": "https://localhost:8080/"
        },
        "id": "02onF_WqtV_B",
        "outputId": "2c4332bf-3a17-4b9c-bb76-029c0d9b500d"
      },
      "execution_count": 60,
      "outputs": [
        {
          "output_type": "stream",
          "name": "stdout",
          "text": [
            "{'name': 'john', 'age': 10}\n",
            "{'name': 'Emma', 'age': 25, 'subject': 'English'}\n",
            "Emma\n"
          ]
        }
      ]
    },
    {
      "cell_type": "code",
      "source": [
        "ride_count = 0\n",
        "friends = []\n",
        "\n",
        "friend = {}\n",
        "print(\"お友達の名前は？\")\n",
        "friend[\"name\"] = input()\n",
        "print(\"お友達の身長は？\")\n",
        "friend[\"height\"] = int(input())\n",
        "friends.append(friend)\n",
        "ride_count += 1\n",
        "\n",
        "friend = {}\n",
        "print(\"お友達の名前は？\")\n",
        "friend[\"name\"] = input()\n",
        "print(\"お友達の身長は？\")\n",
        "friend[\"height\"] = int(input())\n",
        "friends.append(friend)\n",
        "ride_count += 1\n",
        "\n",
        "friend = {}\n",
        "print(\"お友達の名前は？\")\n",
        "friend[\"name\"] = input()\n",
        "print(\"お友達の身長は？\")\n",
        "friend[\"height\"] = int(input())\n",
        "friends.append(friend)\n",
        "ride_count += 1\n",
        "\n",
        "print(f\"乗車するのは{ride_count}人です\")\n"
      ],
      "metadata": {
        "colab": {
          "base_uri": "https://localhost:8080/"
        },
        "id": "TQ8KeZsztufv",
        "outputId": "9dae414e-2d7c-4add-f8a5-478aa891e805"
      },
      "execution_count": 61,
      "outputs": [
        {
          "output_type": "stream",
          "name": "stdout",
          "text": [
            "お友達の名前は？\n",
            "tarao\n",
            "お友達の身長は？\n",
            "123\n",
            "お友達の名前は？\n",
            "katuo\n",
            "お友達の身長は？\n",
            "154\n",
            "お友達の名前は？\n",
            "wakame\n",
            "お友達の身長は？\n",
            "134\n",
            "乗車するのは3人です\n"
          ]
        }
      ]
    },
    {
      "cell_type": "code",
      "source": [
        "print('東京タワーの高さはスカイツリー以下か？')\n",
        "print(333 <= 634)\n",
        "\n",
        "print('東京タワーの高さはスカイツリー以上か？')\n",
        "print(333 >= 634)\n"
      ],
      "metadata": {
        "colab": {
          "base_uri": "https://localhost:8080/"
        },
        "id": "90CP0qWhu5H3",
        "outputId": "c8d8791d-25dc-410d-fe3c-1858d00b0275"
      },
      "execution_count": 62,
      "outputs": [
        {
          "output_type": "stream",
          "name": "stdout",
          "text": [
            "東京タワーの高さはスカイツリー以下か？\n",
            "True\n",
            "東京タワーの高さはスカイツリー以上か？\n",
            "False\n"
          ]
        }
      ]
    },
    {
      "cell_type": "code",
      "source": [
        "print('数値の777と文字列の\"777\"は等しいか？')\n",
        "print(777 != \"777\")\n",
        "\n",
        "print('文字列\"海\"と\"海\"は異なるか？')\n",
        "print(\"海\" != \"海\")"
      ],
      "metadata": {
        "colab": {
          "base_uri": "https://localhost:8080/"
        },
        "id": "SAEksH5vx4_V",
        "outputId": "2c6175b7-2b96-4be5-e82f-06773f025417"
      },
      "execution_count": 63,
      "outputs": [
        {
          "output_type": "stream",
          "name": "stdout",
          "text": [
            "数値の777と文字列の\"777\"は等しいか？\n",
            "True\n",
            "文字列\"海\"と\"海\"は異なるか？\n",
            "False\n"
          ]
        }
      ]
    },
    {
      "cell_type": "code",
      "source": [
        "#条件分岐\n",
        "#if文　　例・・・\n",
        "# if 条件式:\n",
        "#　   処理\n",
        "value = 3\n",
        "if value > 0:\n",
        "    print(\"値は正です\")   #if文の処理を書く際は処理のインデントは半角スペース4つ\n",
        "\n"
      ],
      "metadata": {
        "colab": {
          "base_uri": "https://localhost:8080/"
        },
        "id": "8Snu3swFyZad",
        "outputId": "65b5d744-dad1-45e9-91a1-bfcbe7d07a28"
      },
      "execution_count": 64,
      "outputs": [
        {
          "output_type": "stream",
          "name": "stdout",
          "text": [
            "値は正です\n"
          ]
        }
      ]
    },
    {
      "cell_type": "code",
      "source": [
        "#ifとelse\n",
        "value = 3\n",
        "if value > 0:\n",
        "    print(\"値は正です\")   #if文の処理を書く際は処理のインデントは半角スペース4つ\n",
        "else:\n",
        "    print(\"値は負です\")"
      ],
      "metadata": {
        "id": "HCkUsd9DzVnz"
      },
      "execution_count": null,
      "outputs": []
    },
    {
      "cell_type": "code",
      "source": [
        "#elif ///elifは、elseのように条件式がFalseだったときの処理を記述するもの\n",
        "value = int(input())\n",
        "\n",
        "if value > 0:\n",
        "    print(\"値は正です\")\n",
        "elif value < 0:\n",
        "    print(\"値は負です\")\n",
        "else:\n",
        "    print(\"値は0です\")"
      ],
      "metadata": {
        "colab": {
          "base_uri": "https://localhost:8080/"
        },
        "id": "cnyHB12Pzw8e",
        "outputId": "a97dc7f2-de5c-481b-d14f-0f5348042315"
      },
      "execution_count": 68,
      "outputs": [
        {
          "output_type": "stream",
          "name": "stdout",
          "text": [
            "0\n",
            "値は0です\n"
          ]
        }
      ]
    },
    {
      "cell_type": "code",
      "source": [
        "ride_count = 0\n",
        "friends = []\n",
        "\n",
        "friend = {}\n",
        "print(\"お友達の名前は？\")\n",
        "friend['name'] = input()\n",
        "print(\"お友達の身長は？\")\n",
        "friend['height'] = int(input())\n",
        "friends.append(friend)\n",
        "if friend[\"height\"] >= 130:\n",
        "    print(f\"{friend['name']}君は乗車できます\")\n",
        "    ride_count += 1\n",
        "else:\n",
        "    print(f\"{friend['name']}君は乗車できません\")\n",
        "\n",
        "friend = {}\n",
        "print(\"お友達の名前は？\")\n",
        "friend['name'] = input()\n",
        "print(\"お友達の身長は？\")\n",
        "friend['height'] = int(input())\n",
        "friends.append(friend)\n",
        "if friend[\"height\"] >= 130:\n",
        "    print(f\"{friend['name']}君は乗車できます\")\n",
        "    ride_count += 1\n",
        "else:\n",
        "    print(f\"{friend['name']}君は乗車できません\")\n",
        "\n",
        "friend = {}\n",
        "print(\"お友達の名前は？\")\n",
        "friend['name'] = input()\n",
        "print(\"お友達の身長は？\")\n",
        "friend['height'] = int(input())\n",
        "friends.append(friend)\n",
        "if friend[\"height\"] >= 130:\n",
        "    print(f\"{friend['name']}君は乗車できます\")\n",
        "    ride_count += 1\n",
        "else:\n",
        "    print(f\"{friend['name']}君は乗車できません\")\n",
        "\n",
        "print(f\"乗車するのは{ride_count}人です\")"
      ],
      "metadata": {
        "colab": {
          "base_uri": "https://localhost:8080/"
        },
        "id": "ev7tr5_e0b5Y",
        "outputId": "534bf8e9-c7a2-4ddb-fbf1-786d0f552260"
      },
      "execution_count": 69,
      "outputs": [
        {
          "output_type": "stream",
          "name": "stdout",
          "text": [
            "お友達の名前は？\n",
            "たらお\n",
            "お友達の身長は？\n",
            "129\n",
            "たらお君は乗車できません\n",
            "お友達の名前は？\n",
            "カツオ\n",
            "お友達の身長は？\n",
            "131\n",
            "カツオ君は乗車できます\n",
            "お友達の名前は？\n",
            "wakame\n",
            "お友達の身長は？\n",
            "145\n",
            "wakame君は乗車できます\n",
            "乗車するのは2人です\n"
          ]
        }
      ]
    },
    {
      "cell_type": "code",
      "source": [
        "#繰り返し処理\n",
        "#for文　例・・・　for 変数 in 配列:\n",
        "#                 実行する処理\n",
        "\n",
        "colors = [\"あか\", \"あお\", \"黄色\"]\n",
        "\n",
        "for color in colors:\n",
        "    print(f\"色： {color}\")"
      ],
      "metadata": {
        "colab": {
          "base_uri": "https://localhost:8080/"
        },
        "id": "-230j3fA1bRz",
        "outputId": "25a84c6d-a121-4741-853e-199654b7ebc2"
      },
      "execution_count": 70,
      "outputs": [
        {
          "output_type": "stream",
          "name": "stdout",
          "text": [
            "色： あか\n",
            "色： あお\n",
            "色： 黄色\n"
          ]
        }
      ]
    },
    {
      "cell_type": "code",
      "source": [
        "#range関数・・・for文とrange関数を組み合わせることで、指定した回数だけ繰り返し処理を行う\n",
        "#例・・・　for 変数 in range(繰り返したい回数):\n",
        "#          実行する処理\n",
        "\n",
        "for i in range(10):\n",
        "    print(i + 1)"
      ],
      "metadata": {
        "colab": {
          "base_uri": "https://localhost:8080/"
        },
        "id": "V1qA9gwq2cNV",
        "outputId": "b8204803-f7ed-4a73-a48f-5b9592373303"
      },
      "execution_count": 73,
      "outputs": [
        {
          "output_type": "stream",
          "name": "stdout",
          "text": [
            "1\n",
            "2\n",
            "3\n",
            "4\n",
            "5\n",
            "6\n",
            "7\n",
            "8\n",
            "9\n",
            "10\n"
          ]
        }
      ]
    },
    {
      "cell_type": "code",
      "source": [
        "#繰り返し処理\n",
        "ride_count = 0\n",
        "friends = []\n",
        "\n",
        "for i in range(5):\n",
        "    friend = {}\n",
        "    print(\"お友達の名前は？\")\n",
        "    friend[\"name\"] = input()\n",
        "    print(\"お友達の身長は？\")\n",
        "    friend[\"height\"] = int(input())\n",
        "    friends.append(friend)\n",
        "    if friend[\"height\"] >= 130:\n",
        "        print (f\"{friend['name']}くんは乗車できます\")\n",
        "        ride_count += 1\n",
        "    else:\n",
        "        print(f\"{friend['name']}くんは乗車できません！\")\n",
        "\n",
        "\n",
        "print(f\"乗車できるのは{ride_count}人です\")"
      ],
      "metadata": {
        "colab": {
          "base_uri": "https://localhost:8080/"
        },
        "id": "aep2-aDo3Jji",
        "outputId": "616d8f49-19f0-43ad-a0e2-07ca0b7710e2"
      },
      "execution_count": 75,
      "outputs": [
        {
          "output_type": "stream",
          "name": "stdout",
          "text": [
            "お友達の名前は？\n",
            "katuo\n",
            "お友達の身長は？\n",
            "123\n",
            "katuoくんは乗車できません！\n",
            "お友達の名前は？\n",
            "tarao\n",
            "お友達の身長は？\n",
            "112\n",
            "taraoくんは乗車できません！\n",
            "お友達の名前は？\n",
            "wakame\n",
            "お友達の身長は？\n",
            "131\n",
            "wakameくんは乗車できます\n",
            "お友達の名前は？\n",
            "masuo\n",
            "お友達の身長は？\n",
            "198\n",
            "masuoくんは乗車できます\n",
            "お友達の名前は？\n",
            "sazae\n",
            "お友達の身長は？\n",
            "210\n",
            "sazaeくんは乗車できます\n",
            "乗車できるのは3人です\n"
          ]
        }
      ]
    },
    {
      "cell_type": "code",
      "source": [
        "#アプリのコードを改善・・・最初にデータの入力のみを行い、その後に出力を行うようコードを変更\n",
        "ride_count = 0\n",
        "friends = []\n",
        "\n",
        " #for文とrange関数で入力を繰り返し、名前と身長の情報を持った辞書を配列に追加\n",
        "for i in range(5):\n",
        "    friend = {}\n",
        "    print(\"お友達の名前は？\")\n",
        "    friend[\"name\"] = input()\n",
        "    print(\"お友達の身長は？\")\n",
        "    friend[\"height\"] = int(input())\n",
        "    friends.append(friend)\n",
        "\n",
        " #配列に対してfor文による繰り返し処理を行い、身長が130cm以上か判別する条件分岐処理と出力\n",
        "for friend in friends:\n",
        "    if friend[\"height\"] >= 130:\n",
        "        print (f\"{friend['name']}くんは乗車できます\")\n",
        "        ride_count += 1\n",
        "    else:\n",
        "        print(f\"{friend['name']}くんは乗車できません！\")\n",
        "\n",
        "\n",
        "\n",
        "print(f\"乗車できるのは{ride_count}人です\")"
      ],
      "metadata": {
        "colab": {
          "base_uri": "https://localhost:8080/"
        },
        "id": "83gYkiiG3iRR",
        "outputId": "cee40e2f-e90b-4499-c0f8-4aa1bccff8f2"
      },
      "execution_count": 78,
      "outputs": [
        {
          "output_type": "stream",
          "name": "stdout",
          "text": [
            "お友達の名前は？\n",
            "katuo\n",
            "お友達の身長は？\n",
            "123\n",
            "お友達の名前は？\n",
            "tarao\n",
            "お友達の身長は？\n",
            "131\n",
            "お友達の名前は？\n",
            "wakame\n",
            "お友達の身長は？\n",
            "145\n",
            "お友達の名前は？\n",
            "masuo\n",
            "お友達の身長は？\n",
            "198\n",
            "お友達の名前は？\n",
            "sazae\n",
            "お友達の身長は？\n",
            "197\n",
            "katuoくんは乗車できません！\n",
            "taraoくんは乗車できます\n",
            "wakameくんは乗車できます\n",
            "masuoくんは乗車できます\n",
            "sazaeくんは乗車できます\n",
            "乗車できるのは4人です\n"
          ]
        }
      ]
    },
    {
      "cell_type": "code",
      "source": [
        "# prompt: githubにプッシュしたい\n",
        "\n",
        "!git add .\n",
        "!git commit -m \"Python基礎文法\"\n",
        "!git push\n"
      ],
      "metadata": {
        "colab": {
          "base_uri": "https://localhost:8080/"
        },
        "id": "Mz1Nf6zS5ulH",
        "outputId": "9a5bee8d-7e6d-49de-babc-9718ea6f4768"
      },
      "execution_count": 81,
      "outputs": [
        {
          "output_type": "stream",
          "name": "stdout",
          "text": [
            "On branch master\n",
            "nothing to commit, working tree clean\n",
            "fatal: The current branch master has no upstream branch.\n",
            "To push the current branch and set the remote as upstream, use\n",
            "\n",
            "    git push --set-upstream origin master\n",
            "\n"
          ]
        }
      ]
    },
    {
      "cell_type": "code",
      "source": [
        "#関数の定義\n",
        "#自分で定義する\n",
        "\n",
        "def say_hello(): #関数の定義\n",
        "    print(\"Hello World\")\n",
        "\n",
        "#関数の実行\n",
        "say_hello()"
      ],
      "metadata": {
        "colab": {
          "base_uri": "https://localhost:8080/"
        },
        "id": "xUQc4XPl59gp",
        "outputId": "97ee2665-111e-40bf-afff-a99ec8bb7614"
      },
      "execution_count": 84,
      "outputs": [
        {
          "output_type": "stream",
          "name": "stdout",
          "text": [
            "Hello World\n"
          ]
        }
      ]
    },
    {
      "cell_type": "code",
      "source": [
        "#return文 関数内でreturn ◯◯と記述すると、returnの後ろに続けた式がその関数の戻り値になる\n",
        "def sample():\n",
        "    num = 2 * 3\n",
        "    return num\n",
        "\n",
        "print(sample())\n"
      ],
      "metadata": {
        "colab": {
          "base_uri": "https://localhost:8080/"
        },
        "id": "7GH7_9C39s81",
        "outputId": "eb9ec64d-e47c-4628-86e4-10c14903c325"
      },
      "execution_count": 87,
      "outputs": [
        {
          "output_type": "stream",
          "name": "stdout",
          "text": [
            "6\n"
          ]
        }
      ]
    },
    {
      "cell_type": "code",
      "source": [
        "def say_hello():\n",
        "    print(\"Hello World\")\n",
        "\n",
        "say_hello()"
      ],
      "metadata": {
        "colab": {
          "base_uri": "https://localhost:8080/"
        },
        "id": "mKmG-ekM-22e",
        "outputId": "9ba3176d-5ff2-4da3-f977-8551e969011d"
      },
      "execution_count": 88,
      "outputs": [
        {
          "output_type": "stream",
          "name": "stdout",
          "text": [
            "Hello World\n"
          ]
        }
      ]
    },
    {
      "cell_type": "code",
      "source": [
        "#スコープ\n",
        "#Pythonには「グローバルスコープ」「ローカルスコープ」の2種類のスコープがあり、変数を関数の外側で定義するのか、関数の内側で定義するのかによって変わります。\n",
        "\n",
        "#グローバルスコープ\n",
        "#関数の外側で変数を定義するとグローバルスコープになります。グローバルスコープの範囲はファイル内全体です。\n",
        "\n",
        "#ローカルスコープ\n",
        "#関数の内側で変数を定義するとローカルスコープになります。ローカルスコープの範囲はそれぞれの関数内のみ\n",
        "\n",
        "def mixer(fruit):\n",
        "    print(f\"{fruit}を細かく砕く\")\n",
        "    return(f\"{fruit}ジュース\")\n",
        "\n",
        "print(\"フルーツを入力して下さい\")\n",
        "fruit = input()\n",
        "\n",
        "print(mixer(fruit))"
      ],
      "metadata": {
        "colab": {
          "base_uri": "https://localhost:8080/"
        },
        "id": "E1Gk3jAv_ItA",
        "outputId": "de0d80e1-7f9b-40fa-ff07-b31b37cd53c2"
      },
      "execution_count": 89,
      "outputs": [
        {
          "output_type": "stream",
          "name": "stdout",
          "text": [
            "フルーツを入力して下さい\n",
            "りんご\n",
            "りんごを細かく砕く\n",
            "りんごジュース\n"
          ]
        }
      ]
    },
    {
      "cell_type": "code",
      "source": [
        "#for文のスコープ\n",
        "#for文のスコープ範囲は、関数のスコープと違いがある\n",
        "for i in range(3):\n",
        "    num = 1\n",
        "    print(i + num)\n",
        "\n",
        "print(num)\n",
        "\n",
        "#for文の中で定義した変数もfor文の外で使用できる"
      ],
      "metadata": {
        "colab": {
          "base_uri": "https://localhost:8080/"
        },
        "id": "OmD0OktEBENY",
        "outputId": "8016216e-5da4-44e1-c567-98872097539d"
      },
      "execution_count": 90,
      "outputs": [
        {
          "output_type": "stream",
          "name": "stdout",
          "text": [
            "1\n",
            "2\n",
            "3\n",
            "1\n"
          ]
        }
      ]
    },
    {
      "cell_type": "code",
      "source": [
        "ride_count = 0\n",
        "friends = []\n",
        "\n",
        "for i in range(3):\n",
        "    friend = {}\n",
        "    print(\"お友達の名前は？\")\n",
        "    friend['name']=input()\n",
        "    print(\"お友達の身長は？\")\n",
        "    friend['height']=int(input())\n",
        "    friends.append(friend)\n",
        "\n",
        "for friend in friends:\n",
        "    if friend['height']>=130:\n",
        "        print(f\"{friend['name']}くんは乗車できます\")\n",
        "        ride_count += 1\n",
        "    else:\n",
        "        print(f\"{friend['name']}くんは乗車できません！\")\n",
        "\n",
        "print(f\"乗車できるのは{ride_count}人です\")"
      ],
      "metadata": {
        "id": "O834LSN4Bogu"
      },
      "execution_count": null,
      "outputs": []
    },
    {
      "cell_type": "code",
      "source": [
        "#データ入力ようの関数作成\n",
        "ride_count = 0\n",
        "\n",
        "#デーオタ入力関数\n",
        "def add_friend(list):\n",
        "     friend = {}\n",
        "    print(\"お友達の名前は？\")\n",
        "    friend['name']=input()\n",
        "    print(\"お友達の身長は？\")\n",
        "    friend['height']=int(input())\n",
        "    list.append(friend)\n",
        "\n",
        "friends = []\n",
        "\n",
        "for i in range(3): #関数add_friendを呼び出す\n",
        "    add_friend(friends)\n",
        "\n",
        "for friend in friends:\n",
        "    if friend['height']>=130:\n",
        "        print(f\"{friend['name']}くんは乗車できます\")\n",
        "        ride_count += 1\n",
        "    else:\n",
        "        print(f\"{friend['name']}くんは乗車できません！\")\n",
        "\n",
        "print(f\"乗車できるのは{ride_count}人です\")"
      ],
      "metadata": {
        "id": "LjnXmastCGRq"
      },
      "execution_count": null,
      "outputs": []
    },
    {
      "cell_type": "code",
      "source": [
        "#データの出力用の関数作成\n",
        "def judge_height(list):\n",
        "    ride_count = 0\n",
        "\n",
        "    for friend in friends:\n",
        "        if friend['height']>=130:\n",
        "            print(f\"{friend['name']}くんは乗車できます\")\n",
        "            ride_count += 1\n",
        "        else:\n",
        "            print(f\"{friend['name']}くんは乗車できません！\")\n",
        "\n",
        "    print(f\"乗車できるのは{ride_count}人です\")\n",
        "\n",
        "#デーオタ入力関数\n",
        "def add_friend(list):\n",
        "    friend = {}\n",
        "    print(\"お友達の名前は？\")\n",
        "    friend['name']=input()\n",
        "    print(\"お友達の身長は？\")\n",
        "    friend['height']=int(input())\n",
        "    list.append(friend)\n",
        "\n",
        "friends = []\n",
        "\n",
        "for i in range(3): #関数add_friendを呼び出す\n",
        "    add_friend(friends)\n",
        "\n",
        "judge_height(friends) #関数judge_heightを呼び出す\n"
      ],
      "metadata": {
        "colab": {
          "base_uri": "https://localhost:8080/"
        },
        "id": "fhNPcY7xDLK6",
        "outputId": "7b2d3b6c-3d11-461e-e481-38479cf88d8f"
      },
      "execution_count": 93,
      "outputs": [
        {
          "output_type": "stream",
          "name": "stdout",
          "text": [
            "お友達の名前は？\n",
            "taro\n",
            "お友達の身長は？\n",
            "131\n",
            "お友達の名前は？\n",
            "kota\n",
            "お友達の身長は？\n",
            "131\n",
            "お友達の名前は？\n",
            "megumi\n",
            "お友達の身長は？\n",
            "129\n",
            "taroくんは乗車できます\n",
            "kotaくんは乗車できます\n",
            "megumiくんは乗車できません！\n",
            "乗車できるのは2人です\n"
          ]
        }
      ]
    },
    {
      "cell_type": "code",
      "source": [
        "# prompt: githubのリポジトリを切り替える\n",
        "\n",
        "!git remote set-url origin https://github.com/googlecolab/colabtools.git\n"
      ],
      "metadata": {
        "id": "3s9wdjT-HXy0"
      },
      "execution_count": 108,
      "outputs": []
    },
    {
      "cell_type": "code",
      "source": [],
      "metadata": {
        "id": "YEE3Wec6IDQ0"
      },
      "execution_count": null,
      "outputs": []
    }
  ]
}